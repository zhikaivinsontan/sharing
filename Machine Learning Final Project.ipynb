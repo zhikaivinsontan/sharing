{
 "cells": [
  {
   "cell_type": "markdown",
   "metadata": {},
   "source": [
    "# Machine Learning\n",
    "## At a glance:\n",
    "### This part illustrates Predicting if a terror attack is deadly or not deadly. An attack is considered deadly if more than 0 deaths occur. The rationale for doing is is because we believe that terrorism can be divided into different forms and severities. Classifying terrorism can lead to greater insight to the rationale of terrorism (from the paper https://www.start.umd.edu/publication/classifying-terrorism-potential-contribution-cluster-analysis-academics-and-policymakers) and can potentially lead to greater policies to curb and deter terrorism.\n",
    "\n",
    "\n",
    "## More about the model:\n",
    "### We used numerical columns (iyear,country,latitude,longitude,attacktype1,targetype1,natlty1,weaptype1) to predict whether an attack is deadly or not using XGBoost. To prepare our data for training, we removed non-numerical columns and created a new derived attribute called 'deadlyAttack'. The attribute 'deadlyAttack' is derived from the attribute 'nkills' which details the number of kills. 'deadlyAttack' is a binary attribute where the instance will be 1 if 'nkills' > 0 and 0 if 'nkills' = 0."
   ]
  },
  {
   "cell_type": "code",
   "execution_count": 1,
   "metadata": {},
   "outputs": [],
   "source": [
    "import pandas as pd\n",
    "import numpy as np\n",
    "import matplotlib.pyplot as plt\n",
    "from scipy import stats"
   ]
  },
  {
   "cell_type": "markdown",
   "metadata": {},
   "source": [
    "# Basic data processing\n",
    "\n",
    "### 1. We read raw csv data into a pandas dataframe in order to start our data clean up and processing. We looked at the number of columns and decided to retain these columns because they were most relevant to the questions that we had in mind. We went from 104 attributes to 15 attributes. \n",
    "'iyear'\n",
    "'country'\n",
    "'country_txt'\n",
    "'latitude'\n",
    "'longitude'\n",
    "'attacktype1'\n",
    "'attacktype1_txt'\n",
    "'targtype1'\n",
    "'targtype1_txt'\n",
    "'natlty1'\n",
    "'natlty1_txt'\n",
    "'weaptype1'\n",
    "'weaptype1_txt'\n",
    "'nkill'\n",
    "'target1'\"\n",
    "\n",
    "### 2. We then removed rows with empty or NAN values as part of our clean up. We went from 181691 to 165375 rows.\n"
   ]
  },
  {
   "cell_type": "code",
   "execution_count": 18,
   "metadata": {},
   "outputs": [
    {
     "name": "stderr",
     "output_type": "stream",
     "text": [
      "/Users/tanvinson/.pyenv/versions/3.6.8/lib/python3.6/site-packages/IPython/core/interactiveshell.py:3058: DtypeWarning: Columns (4,6,31,33,61,62,63,76,79,90,92,94,96,114,115,121) have mixed types. Specify dtype option on import or set low_memory=False.\n",
      "  interactivity=interactivity, compiler=compiler, result=result)\n"
     ]
    }
   ],
   "source": [
    "# Import the Data\n",
    "df = pd.read_csv(\"globalterrorismdb_0718dist.csv\",encoding = \"ISO-8859-1\")"
   ]
  },
  {
   "cell_type": "code",
   "execution_count": 19,
   "metadata": {},
   "outputs": [
    {
     "data": {
      "text/plain": [
       "(165375, 15)"
      ]
     },
     "execution_count": 19,
     "metadata": {},
     "output_type": "execute_result"
    }
   ],
   "source": [
    "# retain columns that are of use\n",
    "df = df[['iyear','country','country_txt','latitude', 'longitude','attacktype1','attacktype1_txt','targtype1','targtype1_txt','natlty1','natlty1_txt','weaptype1','weaptype1_txt','nkill','target1']]\n",
    "\n",
    "# remove rows with NAN values\n",
    "df.replace('', np.nan, inplace=True)\n",
    "df = df.dropna()\n",
    "\n",
    "df.shape"
   ]
  },
  {
   "cell_type": "markdown",
   "metadata": {},
   "source": [
    "# Data Processing for XGBoost\n",
    "\n",
    "### We created a new attribute called 'deadlyAttack', which is a boolean attribute, as our dependent variable. The other numerical columns form our independent variables."
   ]
  },
  {
   "cell_type": "code",
   "execution_count": 4,
   "metadata": {},
   "outputs": [],
   "source": [
    "# Add 'deadlyAttack' column\n",
    "df['deadlyAttack'] = np.where(df['nkill']>0, 1, 0)\n",
    "\n",
    "del df['nkill']"
   ]
  },
  {
   "cell_type": "code",
   "execution_count": 5,
   "metadata": {},
   "outputs": [],
   "source": [
    "# Extract only numerical columns for \n",
    "numericalDF = df._get_numeric_data()"
   ]
  },
  {
   "cell_type": "code",
   "execution_count": 6,
   "metadata": {},
   "outputs": [],
   "source": [
    "# Train model using XGBOOST\n",
    "from numpy import loadtxt\n",
    "from xgboost import XGBClassifier\n",
    "from sklearn.model_selection import train_test_split\n",
    "from sklearn.metrics import accuracy_score"
   ]
  },
  {
   "cell_type": "code",
   "execution_count": 7,
   "metadata": {},
   "outputs": [],
   "source": [
    "# split data into X and y\n",
    "X = numericalDF.loc[:, numericalDF.columns != 'deadlyAttack']\n",
    "Y = numericalDF[['deadlyAttack']]"
   ]
  },
  {
   "cell_type": "code",
   "execution_count": 8,
   "metadata": {},
   "outputs": [],
   "source": [
    "# Set parameters for training\n",
    "seed = 7\n",
    "test_size = 0.3\n",
    "\n",
    "# Split the dataset into Training and Testing\n",
    "X_train, X_test, y_train, y_test = train_test_split(X, Y, test_size=test_size, random_state=seed)"
   ]
  },
  {
   "cell_type": "code",
   "execution_count": 9,
   "metadata": {},
   "outputs": [
    {
     "data": {
      "text/html": [
       "<div>\n",
       "<style scoped>\n",
       "    .dataframe tbody tr th:only-of-type {\n",
       "        vertical-align: middle;\n",
       "    }\n",
       "\n",
       "    .dataframe tbody tr th {\n",
       "        vertical-align: top;\n",
       "    }\n",
       "\n",
       "    .dataframe thead th {\n",
       "        text-align: right;\n",
       "    }\n",
       "</style>\n",
       "<table border=\"1\" class=\"dataframe\">\n",
       "  <thead>\n",
       "    <tr style=\"text-align: right;\">\n",
       "      <th></th>\n",
       "      <th>iyear</th>\n",
       "      <th>country</th>\n",
       "      <th>latitude</th>\n",
       "      <th>longitude</th>\n",
       "      <th>attacktype1</th>\n",
       "      <th>targtype1</th>\n",
       "      <th>natlty1</th>\n",
       "      <th>weaptype1</th>\n",
       "    </tr>\n",
       "  </thead>\n",
       "  <tbody>\n",
       "    <tr>\n",
       "      <th>138557</th>\n",
       "      <td>2014</td>\n",
       "      <td>4</td>\n",
       "      <td>34.037983</td>\n",
       "      <td>69.021027</td>\n",
       "      <td>3</td>\n",
       "      <td>3</td>\n",
       "      <td>4.0</td>\n",
       "      <td>6</td>\n",
       "    </tr>\n",
       "    <tr>\n",
       "      <th>151501</th>\n",
       "      <td>2015</td>\n",
       "      <td>228</td>\n",
       "      <td>14.781294</td>\n",
       "      <td>42.972851</td>\n",
       "      <td>9</td>\n",
       "      <td>22</td>\n",
       "      <td>228.0</td>\n",
       "      <td>13</td>\n",
       "    </tr>\n",
       "    <tr>\n",
       "      <th>91220</th>\n",
       "      <td>2009</td>\n",
       "      <td>95</td>\n",
       "      <td>32.604393</td>\n",
       "      <td>44.007145</td>\n",
       "      <td>2</td>\n",
       "      <td>2</td>\n",
       "      <td>95.0</td>\n",
       "      <td>5</td>\n",
       "    </tr>\n",
       "    <tr>\n",
       "      <th>95701</th>\n",
       "      <td>2010</td>\n",
       "      <td>95</td>\n",
       "      <td>33.303566</td>\n",
       "      <td>44.371773</td>\n",
       "      <td>3</td>\n",
       "      <td>14</td>\n",
       "      <td>95.0</td>\n",
       "      <td>6</td>\n",
       "    </tr>\n",
       "    <tr>\n",
       "      <th>87804</th>\n",
       "      <td>2008</td>\n",
       "      <td>34</td>\n",
       "      <td>-3.375828</td>\n",
       "      <td>29.364107</td>\n",
       "      <td>3</td>\n",
       "      <td>7</td>\n",
       "      <td>34.0</td>\n",
       "      <td>6</td>\n",
       "    </tr>\n",
       "    <tr>\n",
       "      <th>...</th>\n",
       "      <td>...</td>\n",
       "      <td>...</td>\n",
       "      <td>...</td>\n",
       "      <td>...</td>\n",
       "      <td>...</td>\n",
       "      <td>...</td>\n",
       "      <td>...</td>\n",
       "      <td>...</td>\n",
       "    </tr>\n",
       "    <tr>\n",
       "      <th>76874</th>\n",
       "      <td>2004</td>\n",
       "      <td>155</td>\n",
       "      <td>32.110361</td>\n",
       "      <td>35.105840</td>\n",
       "      <td>3</td>\n",
       "      <td>19</td>\n",
       "      <td>97.0</td>\n",
       "      <td>6</td>\n",
       "    </tr>\n",
       "    <tr>\n",
       "      <th>63007</th>\n",
       "      <td>1996</td>\n",
       "      <td>19</td>\n",
       "      <td>23.135309</td>\n",
       "      <td>91.947098</td>\n",
       "      <td>6</td>\n",
       "      <td>14</td>\n",
       "      <td>19.0</td>\n",
       "      <td>13</td>\n",
       "    </tr>\n",
       "    <tr>\n",
       "      <th>12977</th>\n",
       "      <td>1981</td>\n",
       "      <td>83</td>\n",
       "      <td>14.622869</td>\n",
       "      <td>-90.529068</td>\n",
       "      <td>1</td>\n",
       "      <td>8</td>\n",
       "      <td>83.0</td>\n",
       "      <td>5</td>\n",
       "    </tr>\n",
       "    <tr>\n",
       "      <th>58866</th>\n",
       "      <td>1995</td>\n",
       "      <td>92</td>\n",
       "      <td>14.681888</td>\n",
       "      <td>77.600591</td>\n",
       "      <td>3</td>\n",
       "      <td>2</td>\n",
       "      <td>92.0</td>\n",
       "      <td>6</td>\n",
       "    </tr>\n",
       "    <tr>\n",
       "      <th>71890</th>\n",
       "      <td>2001</td>\n",
       "      <td>130</td>\n",
       "      <td>24.413892</td>\n",
       "      <td>-106.727641</td>\n",
       "      <td>2</td>\n",
       "      <td>14</td>\n",
       "      <td>130.0</td>\n",
       "      <td>5</td>\n",
       "    </tr>\n",
       "  </tbody>\n",
       "</table>\n",
       "<p>115762 rows × 8 columns</p>\n",
       "</div>"
      ],
      "text/plain": [
       "        iyear  country   latitude   longitude  attacktype1  targtype1  \\\n",
       "138557   2014        4  34.037983   69.021027            3          3   \n",
       "151501   2015      228  14.781294   42.972851            9         22   \n",
       "91220    2009       95  32.604393   44.007145            2          2   \n",
       "95701    2010       95  33.303566   44.371773            3         14   \n",
       "87804    2008       34  -3.375828   29.364107            3          7   \n",
       "...       ...      ...        ...         ...          ...        ...   \n",
       "76874    2004      155  32.110361   35.105840            3         19   \n",
       "63007    1996       19  23.135309   91.947098            6         14   \n",
       "12977    1981       83  14.622869  -90.529068            1          8   \n",
       "58866    1995       92  14.681888   77.600591            3          2   \n",
       "71890    2001      130  24.413892 -106.727641            2         14   \n",
       "\n",
       "        natlty1  weaptype1  \n",
       "138557      4.0          6  \n",
       "151501    228.0         13  \n",
       "91220      95.0          5  \n",
       "95701      95.0          6  \n",
       "87804      34.0          6  \n",
       "...         ...        ...  \n",
       "76874      97.0          6  \n",
       "63007      19.0         13  \n",
       "12977      83.0          5  \n",
       "58866      92.0          6  \n",
       "71890     130.0          5  \n",
       "\n",
       "[115762 rows x 8 columns]"
      ]
     },
     "execution_count": 9,
     "metadata": {},
     "output_type": "execute_result"
    }
   ],
   "source": [
    "X_train"
   ]
  },
  {
   "cell_type": "markdown",
   "metadata": {},
   "source": [
    "# Training Model\n",
    "\n",
    "### We used XGBoost to train our model with the following parameters:\n",
    "\n",
    "seed = 7\n",
    "test_size = 0.3\n",
    "### which we tuned."
   ]
  },
  {
   "cell_type": "code",
   "execution_count": 10,
   "metadata": {},
   "outputs": [
    {
     "name": "stderr",
     "output_type": "stream",
     "text": [
      "/Users/tanvinson/.pyenv/versions/3.6.8/lib/python3.6/site-packages/sklearn/preprocessing/_label.py:235: DataConversionWarning: A column-vector y was passed when a 1d array was expected. Please change the shape of y to (n_samples, ), for example using ravel().\n",
      "  y = column_or_1d(y, warn=True)\n",
      "/Users/tanvinson/.pyenv/versions/3.6.8/lib/python3.6/site-packages/sklearn/preprocessing/_label.py:268: DataConversionWarning: A column-vector y was passed when a 1d array was expected. Please change the shape of y to (n_samples, ), for example using ravel().\n",
      "  y = column_or_1d(y, warn=True)\n"
     ]
    },
    {
     "data": {
      "text/plain": [
       "XGBClassifier(base_score=0.5, booster='gbtree', colsample_bylevel=1,\n",
       "              colsample_bynode=1, colsample_bytree=1, gamma=0,\n",
       "              learning_rate=0.1, max_delta_step=0, max_depth=3,\n",
       "              min_child_weight=1, missing=None, n_estimators=100, n_jobs=1,\n",
       "              nthread=None, objective='binary:logistic', random_state=0,\n",
       "              reg_alpha=0, reg_lambda=1, scale_pos_weight=1, seed=None,\n",
       "              silent=None, subsample=1, verbosity=1)"
      ]
     },
     "execution_count": 10,
     "metadata": {},
     "output_type": "execute_result"
    }
   ],
   "source": [
    "model = XGBClassifier()\n",
    "model.fit(X_train, y_train)"
   ]
  },
  {
   "cell_type": "code",
   "execution_count": 11,
   "metadata": {},
   "outputs": [],
   "source": [
    "y_pred = model.predict(X_test)\n",
    "predictions = [round(value) for value in y_pred]"
   ]
  },
  {
   "cell_type": "code",
   "execution_count": 12,
   "metadata": {},
   "outputs": [
    {
     "name": "stdout",
     "output_type": "stream",
     "text": [
      "Accuracy: 76.87%\n"
     ]
    }
   ],
   "source": [
    "# evaluate predictions\n",
    "accuracy = accuracy_score(y_test, predictions)\n",
    "print(\"Accuracy: %.2f%%\" % (accuracy * 100.0))"
   ]
  },
  {
   "cell_type": "markdown",
   "metadata": {},
   "source": [
    "# Feature Importance\n",
    "\n",
    "## We then used the Feature Importance function provided by XGBoost to determine if there were any dependent variables that could result in higher accuracy. The resulting features were the ones that we used to achieve an accuracy of 76.87%"
   ]
  },
  {
   "cell_type": "code",
   "execution_count": 13,
   "metadata": {},
   "outputs": [
    {
     "data": {
      "image/png": "[encoded data removed]",
      "text/plain": [
       "<Figure size 432x288 with 1 Axes>"
      ]
     },
     "metadata": {
      "needs_background": "light"
     },
     "output_type": "display_data"
    }
   ],
   "source": [
    "# Exract the importance features\n",
    "from xgboost import plot_importance\n",
    "from matplotlib import pyplot\n",
    "# plot feature importance\n",
    "plot_importance(model)\n",
    "pyplot.show()"
   ]
  },
  {
   "cell_type": "code",
   "execution_count": null,
   "metadata": {},
   "outputs": [],
   "source": []
  }
 ],
 "metadata": {
  "kernelspec": {
   "display_name": "Python 3",
   "language": "python",
   "name": "python3"
  },
  "language_info": {
   "codemirror_mode": {
    "name": "ipython",
    "version": 3
   },
   "file_extension": ".py",
   "mimetype": "text/x-python",
   "name": "python",
   "nbconvert_exporter": "python",
   "pygments_lexer": "ipython3",
   "version": "3.6.8"
  }
 },
 "nbformat": 4,
 "nbformat_minor": 2
}
